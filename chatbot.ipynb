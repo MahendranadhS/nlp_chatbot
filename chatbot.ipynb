import torch
from transformers import AutoModelForCausalLM, AutoTokenizer
from transformers import pipeline

# Load GPT model and tokenizer
tokenizer = AutoTokenizer.from_pretrained("gpt2")
model = AutoModelForCausalLM.from_pretrained("gpt2")

# Function to generate a response using GPT
def generate_response(user_input):
    # Tokenize and encode user input
    inputs = tokenizer.encode(user_input, return_tensors="pt")
    
    # Create attention mask to avoid padding issues
    attention_mask = torch.ones(inputs.shape, dtype=torch.long)
    
    # Generate response with repetition_penalty, temperature, and top_p to reduce repetition
    outputs = model.generate(
        inputs, 
        max_length=100, 
        attention_mask=attention_mask, 
        temperature=0.9,        
        top_p=0.9,              
        repetition_penalty=1.5,  
        pad_token_id=tokenizer.eos_token_id
    )
    
    # Decode the generated response and return it
    response = tokenizer.decode(outputs[0], skip_special_tokens=True)
    return response

# Load emotion classifier model from Hugging Face
emotion_classifier = pipeline("text-classification", model="j-hartmann/emotion-english-distilroberta-base")

# Function to detect emotions in user input
def detect_emotion(user_input):
    emotions = emotion_classifier(user_input)
    return emotions[0]['label'], emotions[0]['score']

# Main chat loop with emotion detection
def chat_with_emotions():
    print("Chatbot: Hello! How can I help you today?")
    while True:
        user_input = input("You: ")
        if user_input.lower() in ["exit", "quit"]:
            print("Chatbot: Goodbye!")
            break
        
        # Detect emotion in the user's input
        emotion, confidence = detect_emotion(user_input)
        print(f"Detected emotion: {emotion} (Confidence: {confidence:.2f})")
        
        # Generate response based on user input
        response = generate_response(user_input)
        print(f"Chatbot: {response}")

# Start the chatbot with emotion detection
if __name__ == "__main__":
    chat_with_emotions()
